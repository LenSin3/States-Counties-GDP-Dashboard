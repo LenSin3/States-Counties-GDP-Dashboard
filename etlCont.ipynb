{
 "cells": [
  {
   "cell_type": "markdown",
   "metadata": {},
   "source": [
    "# Conservatory Project 2: GDP by State and County Y2015 - Y2019"
   ]
  },
  {
   "cell_type": "markdown",
   "metadata": {},
   "source": [
    "This project has as its main goal the visualization of GDP Data of all the Counties found in each State."
   ]
  },
  {
   "cell_type": "markdown",
   "metadata": {},
   "source": [
    "## Summary of Project Steps"
   ]
  },
  {
   "cell_type": "markdown",
   "metadata": {},
   "source": [
    "### Step 1: Extract and Transform\n",
    "\n",
    "The first step is the focus of this notebook, to extract the data and perform subsequent transformations including cleaning, aggregating and formatting.\n",
    "\n",
    "To extract the GDP data, API request is made to the website of the US Bureau of Economic Activity (BEA) which houses data on varios economic metrics. The response is then parsed and transformed into a desireable format to be loaded in a database. The transformation involves an iterative process of data cleaning and munging as is manifested in the notebook.\n",
    "\n",
    "A second set of data is also extracted from Data.Health.Gov which has geolocation points of all counties in all 51 States. These points are required to plot maps and other geolocation charts. The transformation follows a similar process done in the first dataset extraction.\n",
    "\n",
    "The above is fully demonstrated in this notebook."
   ]
  },
  {
   "cell_type": "markdown",
   "metadata": {},
   "source": [
    "### Step 2: Load\n",
    "\n",
    "The load is the final step in the ETL process. It is an integral part of the data acquisition and management pipeline. \n",
    "\n",
    "This project will use MongoDB as database for storage purposes. The end structure of the datasets was taken into consideration when deciding to employ this Data Base Management System. The data will be transformed into a JSON and then loaded into the database. Please see **load.py** for more details."
   ]
  },
  {
   "cell_type": "markdown",
   "metadata": {},
   "source": [
    "### Step 3: Visualization\n",
    "\n",
    "The main objective and final step in this project. The visualization will be rendered on the browser employing JavaScript and associated libraries such as D3.js, Leaflet.js and Plotly.js.\n",
    "\n",
    "The data for the plots is retrieved from the MongoDB database via a Flask powered API (see **app.py**). A dashboard is then created comprisng of several chart types showing GDP of Counties and States across the time period of 2015 - 2019. The charts will be interactive and be able to update with dropdown and click actions.\n",
    "\n",
    "The dashboard charts are in **index.html** while the codes are in **app.js**."
   ]
  },
  {
   "cell_type": "markdown",
   "metadata": {},
   "source": [
    "### Import dependencies"
   ]
  },
  {
   "cell_type": "code",
   "execution_count": 1,
   "metadata": {},
   "outputs": [],
   "source": [
    "import requests\n",
    "import pandas as pd\n",
    "import json\n",
    "from config import API_KEY"
   ]
  },
  {
   "cell_type": "markdown",
   "metadata": {},
   "source": [
    "## Main Data Extracts"
   ]
  },
  {
   "cell_type": "markdown",
   "metadata": {},
   "source": [
    "### Counties GDP Retrieval"
   ]
  },
  {
   "cell_type": "code",
   "execution_count": 2,
   "metadata": {},
   "outputs": [
    {
     "data": {
      "text/plain": [
       "'\\n# Query assembly\\ntable_id = \"CAGDP9\" # Table ID to input in API Endpoint\\nbase_url = f\\'https://apps.bea.gov/api/data/?UserID={API_KEY}Key&method=GetData&datasetname=Regional&TableName={table_id}&LineCode=2&GeoFips=COUNTY&ResultFormat=json\\' # API Endpoint\\n'"
      ]
     },
     "execution_count": 2,
     "metadata": {},
     "output_type": "execute_result"
    }
   ],
   "source": [
    "\"\"\"\n",
    "# Query assembly\n",
    "table_id = \"CAGDP9\" # Table ID to input in API Endpoint\n",
    "base_url = f'https://apps.bea.gov/api/data/?UserID={API_KEY}\\\n",
    "Key&method=GetData&datasetname=Regional&TableName={table_id}&LineCode=2&GeoFips=COUNTY&ResultFormat=json' # API Endpoint\n",
    "\"\"\""
   ]
  },
  {
   "cell_type": "code",
   "execution_count": 3,
   "metadata": {},
   "outputs": [],
   "source": [
    "# response\n",
    "# gdp_response_data = requests.get(base_url).json()"
   ]
  },
  {
   "cell_type": "code",
   "execution_count": 4,
   "metadata": {},
   "outputs": [
    {
     "data": {
      "text/plain": [
       "\"\\n# Extract first data points\\ngdp_df = {} \\nfor key, val in gdp_response_data.items():\\n    gdp_df['data'] = val['Results']['Data']\\n\""
      ]
     },
     "execution_count": 4,
     "metadata": {},
     "output_type": "execute_result"
    }
   ],
   "source": [
    "\"\"\"\n",
    "# Extract first data points\n",
    "gdp_df = {} \n",
    "for key, val in gdp_response_data.items():\n",
    "    gdp_df['data'] = val['Results']['Data']\n",
    "\"\"\""
   ]
  },
  {
   "cell_type": "code",
   "execution_count": 5,
   "metadata": {},
   "outputs": [
    {
     "data": {
      "text/plain": [
       "\"\\n# Extract main data points\\ncounty = []\\nyear = []\\ngdp = []\\ncounty_geo_id = []\\nfor vals in gdp_df.values():\\n    for val in vals:\\n        county_geo_id.append(val['GeoFips'])\\n        county.append(val['GeoName'])\\n        year.append(val['TimePeriod'])\\n        gdp.append(val['DataValue'])\\n\\n# create data frame of data\\ndf_gdp = pd.DataFrame({'GEOID': county_geo_id,\\n                       'county': county,\\n                       'year': year,\\n                       'gdp': gdp  \\n})\\n\""
      ]
     },
     "execution_count": 5,
     "metadata": {},
     "output_type": "execute_result"
    }
   ],
   "source": [
    "\"\"\"\n",
    "# Extract main data points\n",
    "county = []\n",
    "year = []\n",
    "gdp = []\n",
    "county_geo_id = []\n",
    "for vals in gdp_df.values():\n",
    "    for val in vals:\n",
    "        county_geo_id.append(val['GeoFips'])\n",
    "        county.append(val['GeoName'])\n",
    "        year.append(val['TimePeriod'])\n",
    "        gdp.append(val['DataValue'])\n",
    "\n",
    "# create data frame of data\n",
    "df_gdp = pd.DataFrame({'GEOID': county_geo_id,\n",
    "                       'county': county,\n",
    "                       'year': year,\n",
    "                       'gdp': gdp  \n",
    "})\n",
    "\"\"\""
   ]
  },
  {
   "cell_type": "code",
   "execution_count": 6,
   "metadata": {},
   "outputs": [],
   "source": [
    "# export as csv\n",
    "# df_gdp.to_csv('counties_gdp_main.csv', index = False)"
   ]
  },
  {
   "cell_type": "markdown",
   "metadata": {},
   "source": [
    "### States GDP Data Retrieval"
   ]
  },
  {
   "cell_type": "code",
   "execution_count": 7,
   "metadata": {},
   "outputs": [
    {
     "data": {
      "text/plain": [
       "'\\ntable_id = \"SAGDP9N\" # Table ID to input in API Endpoint\\nbase_url = f\\'https://apps.bea.gov/api/data/?UserID={API_KEY}Key&method=GetData&datasetname=Regional&TableName={table_id}&LineCode=1&GeoFips=STATE&ResultFormat=json\\' # API Endpoint\\n'"
      ]
     },
     "execution_count": 7,
     "metadata": {},
     "output_type": "execute_result"
    }
   ],
   "source": [
    "# Extract States GDP\n",
    "\"\"\"\n",
    "table_id = \"SAGDP9N\" # Table ID to input in API Endpoint\n",
    "base_url = f'https://apps.bea.gov/api/data/?UserID={API_KEY}\\\n",
    "Key&method=GetData&datasetname=Regional&TableName={table_id}&LineCode=1&GeoFips=STATE&ResultFormat=json' # API Endpoint\n",
    "\"\"\""
   ]
  },
  {
   "cell_type": "code",
   "execution_count": 8,
   "metadata": {},
   "outputs": [],
   "source": [
    "# response states gdp\n",
    "# gdp_response_data = requests.get(base_url).json()"
   ]
  },
  {
   "cell_type": "code",
   "execution_count": 9,
   "metadata": {},
   "outputs": [
    {
     "data": {
      "text/plain": [
       "\"\\ngdp_df = {} \\nfor key, val in gdp_response_data.items():\\n    gdp_df['data'] = val['Results']['Data']\\n    \\ngeo_name = []\\nyear = []\\ngdp = []\\nstate_geo_id = []\\nfor vals in gdp_df.values():\\n    for val in vals:\\n        state_geo_id.append(val['GeoFips'])\\n        geo_name.append(val['GeoName'])\\n        year.append(val['TimePeriod'])\\n        gdp.append(val['DataValue'])\\n\\ndf_gdp = pd.DataFrame({'state_id': state_geo_id,\\n                       'state_name': geo_name,\\n                       'year': year,\\n                       'gdp': gdp  \\n})\\n\\ndf_gdp.tail()\\n\""
      ]
     },
     "execution_count": 9,
     "metadata": {},
     "output_type": "execute_result"
    }
   ],
   "source": [
    "# Extract main data points\n",
    "\"\"\"\n",
    "gdp_df = {} \n",
    "for key, val in gdp_response_data.items():\n",
    "    gdp_df['data'] = val['Results']['Data']\n",
    "    \n",
    "geo_name = []\n",
    "year = []\n",
    "gdp = []\n",
    "state_geo_id = []\n",
    "for vals in gdp_df.values():\n",
    "    for val in vals:\n",
    "        state_geo_id.append(val['GeoFips'])\n",
    "        geo_name.append(val['GeoName'])\n",
    "        year.append(val['TimePeriod'])\n",
    "        gdp.append(val['DataValue'])\n",
    "\n",
    "df_gdp = pd.DataFrame({'state_id': state_geo_id,\n",
    "                       'state_name': geo_name,\n",
    "                       'year': year,\n",
    "                       'gdp': gdp  \n",
    "})\n",
    "\n",
    "df_gdp.tail()\n",
    "\"\"\""
   ]
  },
  {
   "cell_type": "code",
   "execution_count": 10,
   "metadata": {},
   "outputs": [],
   "source": [
    "# Export df_gdp as csv\n",
    "# df_gdp.to_csv('states_gdp_main.csv', index = False)"
   ]
  },
  {
   "cell_type": "markdown",
   "metadata": {},
   "source": [
    "### Counties GeoFips Retrieval"
   ]
  },
  {
   "cell_type": "code",
   "execution_count": 11,
   "metadata": {},
   "outputs": [],
   "source": [
    "# Query URL for API call to opendatasoft.com\n",
    "# query_string = 'https://public.opendatasoft.com/api/records/1.0/search/?dataset=us-county-boundaries&q=&rows=3233&start=0&facet=statefp&facet=countyfp&facet=name&facet=stusab&facet=state_name&facet=GeoPoint&facet=GEOID'"
   ]
  },
  {
   "cell_type": "code",
   "execution_count": 12,
   "metadata": {},
   "outputs": [],
   "source": [
    "# response\n",
    "geoFips = requests.get(query_string).json()"
   ]
  },
  {
   "cell_type": "code",
   "execution_count": 13,
   "metadata": {},
   "outputs": [],
   "source": [
    "# geoFips"
   ]
  },
  {
   "cell_type": "code",
   "execution_count": 14,
   "metadata": {},
   "outputs": [
    {
     "data": {
      "text/plain": [
       "'\\nreq_data = []\\nfor key, val in geoFips.items():\\n    req_data.append(val)\\n    \\ndf_fields = req_data[2]\\n'"
      ]
     },
     "execution_count": 14,
     "metadata": {},
     "output_type": "execute_result"
    }
   ],
   "source": [
    "# Extract main data points\n",
    "\"\"\"\n",
    "req_data = []\n",
    "for key, val in geoFips.items():\n",
    "    req_data.append(val)\n",
    "    \n",
    "df_fields = req_data[2]\n",
    "\"\"\""
   ]
  },
  {
   "cell_type": "code",
   "execution_count": 15,
   "metadata": {},
   "outputs": [
    {
     "data": {
      "text/plain": [
       "\"\\ngeo_id = []\\ncounty = []\\nstate = []\\nstate_name = []\\ngeo_point = []\\n\\nfor val in df_fields:\\n        \\n    geo_id.append(val['fields']['geoid'])\\n    county.append(val['fields']['name'])\\n    state.append(val['fields']['stusab'])\\n    state_name.append(val['fields']['state_name'])\\n    geo_point.append(val['fields']['geo_point_2d'])\\n\""
      ]
     },
     "execution_count": 15,
     "metadata": {},
     "output_type": "execute_result"
    }
   ],
   "source": [
    "# Get plotting data\n",
    "\"\"\"\n",
    "geo_id = []\n",
    "county = []\n",
    "state = []\n",
    "state_name = []\n",
    "geo_point = []\n",
    "\n",
    "for val in df_fields:\n",
    "        \n",
    "    geo_id.append(val['fields']['geoid'])\n",
    "    county.append(val['fields']['name'])\n",
    "    state.append(val['fields']['stusab'])\n",
    "    state_name.append(val['fields']['state_name'])\n",
    "    geo_point.append(val['fields']['geo_point_2d'])\n",
    "\"\"\""
   ]
  },
  {
   "cell_type": "code",
   "execution_count": 16,
   "metadata": {},
   "outputs": [
    {
     "data": {
      "text/plain": [
       "\"\\n# create a dataframe with plot data\\ngeofips_df = pd.DataFrame({'GEOID': geo_id,\\n                          'county': county,\\n                          'state': state,\\n                          'state_name': state_name,\\n                          'geo_point': geo_point})\\n# Export as csv\\ngeofips_df.to_csv('geofips_main.csv', index = False)\\n\""
      ]
     },
     "execution_count": 16,
     "metadata": {},
     "output_type": "execute_result"
    }
   ],
   "source": [
    "\"\"\"\n",
    "# create a dataframe with plot data\n",
    "geofips_df = pd.DataFrame({'GEOID': geo_id,\n",
    "                          'county': county,\n",
    "                          'state': state,\n",
    "                          'state_name': state_name,\n",
    "                          'geo_point': geo_point})\n",
    "# Export as csv\n",
    "geofips_df.to_csv('geofips_main.csv', index = False)\n",
    "\"\"\""
   ]
  },
  {
   "cell_type": "markdown",
   "metadata": {},
   "source": [
    "## Main Transform"
   ]
  },
  {
   "cell_type": "markdown",
   "metadata": {},
   "source": [
    "### Main Counties Data Transform"
   ]
  },
  {
   "cell_type": "code",
   "execution_count": 17,
   "metadata": {},
   "outputs": [
    {
     "data": {
      "text/html": [
       "<div>\n",
       "<style scoped>\n",
       "    .dataframe tbody tr th:only-of-type {\n",
       "        vertical-align: middle;\n",
       "    }\n",
       "\n",
       "    .dataframe tbody tr th {\n",
       "        vertical-align: top;\n",
       "    }\n",
       "\n",
       "    .dataframe thead th {\n",
       "        text-align: right;\n",
       "    }\n",
       "</style>\n",
       "<table border=\"1\" class=\"dataframe\">\n",
       "  <thead>\n",
       "    <tr style=\"text-align: right;\">\n",
       "      <th></th>\n",
       "      <th>GEOID</th>\n",
       "      <th>county</th>\n",
       "      <th>year</th>\n",
       "      <th>gdp</th>\n",
       "    </tr>\n",
       "  </thead>\n",
       "  <tbody>\n",
       "    <tr>\n",
       "      <th>15575</th>\n",
       "      <td>56045</td>\n",
       "      <td>Weston, WY</td>\n",
       "      <td>2015</td>\n",
       "      <td>268,914</td>\n",
       "    </tr>\n",
       "    <tr>\n",
       "      <th>15576</th>\n",
       "      <td>56045</td>\n",
       "      <td>Weston, WY</td>\n",
       "      <td>2016</td>\n",
       "      <td>232,683</td>\n",
       "    </tr>\n",
       "    <tr>\n",
       "      <th>15577</th>\n",
       "      <td>56045</td>\n",
       "      <td>Weston, WY</td>\n",
       "      <td>2017</td>\n",
       "      <td>233,153</td>\n",
       "    </tr>\n",
       "    <tr>\n",
       "      <th>15578</th>\n",
       "      <td>56045</td>\n",
       "      <td>Weston, WY</td>\n",
       "      <td>2018</td>\n",
       "      <td>253,497</td>\n",
       "    </tr>\n",
       "    <tr>\n",
       "      <th>15579</th>\n",
       "      <td>56045</td>\n",
       "      <td>Weston, WY</td>\n",
       "      <td>2019</td>\n",
       "      <td>270,215</td>\n",
       "    </tr>\n",
       "  </tbody>\n",
       "</table>\n",
       "</div>"
      ],
      "text/plain": [
       "       GEOID      county  year      gdp\n",
       "15575  56045  Weston, WY  2015  268,914\n",
       "15576  56045  Weston, WY  2016  232,683\n",
       "15577  56045  Weston, WY  2017  233,153\n",
       "15578  56045  Weston, WY  2018  253,497\n",
       "15579  56045  Weston, WY  2019  270,215"
      ]
     },
     "execution_count": 17,
     "metadata": {},
     "output_type": "execute_result"
    }
   ],
   "source": [
    "# Import counties_gdp_main.csv\n",
    "counties_df = pd.read_csv('counties_gdp_main.csv')\n",
    "counties_df.tail()"
   ]
  },
  {
   "cell_type": "code",
   "execution_count": null,
   "metadata": {},
   "outputs": [],
   "source": []
  },
  {
   "cell_type": "code",
   "execution_count": 18,
   "metadata": {},
   "outputs": [
    {
     "data": {
      "text/html": [
       "<div>\n",
       "<style scoped>\n",
       "    .dataframe tbody tr th:only-of-type {\n",
       "        vertical-align: middle;\n",
       "    }\n",
       "\n",
       "    .dataframe tbody tr th {\n",
       "        vertical-align: top;\n",
       "    }\n",
       "\n",
       "    .dataframe thead th {\n",
       "        text-align: right;\n",
       "    }\n",
       "</style>\n",
       "<table border=\"1\" class=\"dataframe\">\n",
       "  <thead>\n",
       "    <tr style=\"text-align: right;\">\n",
       "      <th></th>\n",
       "      <th>GEOID</th>\n",
       "      <th>county</th>\n",
       "      <th>state</th>\n",
       "      <th>state_name</th>\n",
       "      <th>geo_point</th>\n",
       "    </tr>\n",
       "  </thead>\n",
       "  <tbody>\n",
       "    <tr>\n",
       "      <th>0</th>\n",
       "      <td>42053</td>\n",
       "      <td>Forest</td>\n",
       "      <td>PA</td>\n",
       "      <td>Pennsylvania</td>\n",
       "      <td>[41.5130724363, -79.2360118434]</td>\n",
       "    </tr>\n",
       "    <tr>\n",
       "      <th>1</th>\n",
       "      <td>37001</td>\n",
       "      <td>Alamance</td>\n",
       "      <td>NC</td>\n",
       "      <td>North Carolina</td>\n",
       "      <td>[36.0437098766, -79.3994248175]</td>\n",
       "    </tr>\n",
       "    <tr>\n",
       "      <th>2</th>\n",
       "      <td>17025</td>\n",
       "      <td>Clay</td>\n",
       "      <td>IL</td>\n",
       "      <td>Illinois</td>\n",
       "      <td>[38.7541714951, -88.4902374225]</td>\n",
       "    </tr>\n",
       "    <tr>\n",
       "      <th>3</th>\n",
       "      <td>29103</td>\n",
       "      <td>Knox</td>\n",
       "      <td>MO</td>\n",
       "      <td>Missouri</td>\n",
       "      <td>[40.1282548929, -92.1480723868]</td>\n",
       "    </tr>\n",
       "    <tr>\n",
       "      <th>4</th>\n",
       "      <td>18115</td>\n",
       "      <td>Ohio</td>\n",
       "      <td>IN</td>\n",
       "      <td>Indiana</td>\n",
       "      <td>[38.9500945902, -84.9650431209]</td>\n",
       "    </tr>\n",
       "  </tbody>\n",
       "</table>\n",
       "</div>"
      ],
      "text/plain": [
       "   GEOID    county state      state_name                        geo_point\n",
       "0  42053    Forest    PA    Pennsylvania  [41.5130724363, -79.2360118434]\n",
       "1  37001  Alamance    NC  North Carolina  [36.0437098766, -79.3994248175]\n",
       "2  17025      Clay    IL        Illinois  [38.7541714951, -88.4902374225]\n",
       "3  29103      Knox    MO        Missouri  [40.1282548929, -92.1480723868]\n",
       "4  18115      Ohio    IN         Indiana  [38.9500945902, -84.9650431209]"
      ]
     },
     "execution_count": 18,
     "metadata": {},
     "output_type": "execute_result"
    }
   ],
   "source": [
    "# Import counties geoFips\n",
    "geoFips_df = pd.read_csv('geofips_main.csv')\n",
    "geoFips_df.head()"
   ]
  },
  {
   "cell_type": "code",
   "execution_count": 19,
   "metadata": {},
   "outputs": [],
   "source": [
    "# merge data on GEOID\n",
    "merged_county_geoFips = counties_df.merge(geoFips_df, how = 'left', left_on= 'GEOID', right_on = 'GEOID', suffixes=('_x', '_y')) "
   ]
  },
  {
   "cell_type": "code",
   "execution_count": 20,
   "metadata": {},
   "outputs": [],
   "source": [
    "# merged_county_geoFips.tail()"
   ]
  },
  {
   "cell_type": "code",
   "execution_count": 21,
   "metadata": {},
   "outputs": [],
   "source": [
    "# Drop county_x\n",
    "merged_county_geoFips_drop_x = merged_county_geoFips.drop('county_x', axis = 1)\n",
    "# Rename county_y to county\n",
    "merged_county_geoFips_drop_x_county_renamed = merged_county_geoFips_drop_x.rename(columns = {'county_y': 'county'})"
   ]
  },
  {
   "cell_type": "code",
   "execution_count": 22,
   "metadata": {},
   "outputs": [],
   "source": [
    "# merged_county_geoFips_drop_x_county_renamed['state_name'].unique()"
   ]
  },
  {
   "cell_type": "code",
   "execution_count": 23,
   "metadata": {},
   "outputs": [],
   "source": [
    "# Transform GDP\n",
    "num_conv = [x.replace(',', '') for x in merged_county_geoFips_drop_x_county_renamed['gdp']] # remove the commas in gdp values\n",
    "merged_county_geoFips_drop_x_county_renamed['gdp'] = [x for x in num_conv]"
   ]
  },
  {
   "cell_type": "code",
   "execution_count": 24,
   "metadata": {},
   "outputs": [],
   "source": [
    "# merged_county_geoFips_drop_x_county_renamed.head()"
   ]
  },
  {
   "cell_type": "code",
   "execution_count": 25,
   "metadata": {},
   "outputs": [],
   "source": [
    "# check for null values in county, state, state_name and geo_point\n",
    "# merged_county_geoFips_drop_x_county_renamed.info()"
   ]
  },
  {
   "cell_type": "code",
   "execution_count": 26,
   "metadata": {},
   "outputs": [],
   "source": [
    "# Null values\n",
    "null_df_counties = merged_county_geoFips_drop_x_county_renamed.loc[merged_county_geoFips_drop_x_county_renamed['county'].isna()]"
   ]
  },
  {
   "cell_type": "code",
   "execution_count": 27,
   "metadata": {},
   "outputs": [],
   "source": [
    "# null_df_counties"
   ]
  },
  {
   "cell_type": "code",
   "execution_count": 28,
   "metadata": {},
   "outputs": [],
   "source": [
    "# Drop Null rows\n",
    "merged_county_geoFips_drop_x_county_renamed.dropna(inplace = True)"
   ]
  },
  {
   "cell_type": "code",
   "execution_count": 29,
   "metadata": {},
   "outputs": [],
   "source": [
    "merged_county_geoFips_drop_x_county_renamed.reset_index(inplace = True, drop = True) # Reset index"
   ]
  },
  {
   "cell_type": "code",
   "execution_count": 30,
   "metadata": {},
   "outputs": [
    {
     "name": "stdout",
     "output_type": "stream",
     "text": [
      "<class 'pandas.core.frame.DataFrame'>\n",
      "RangeIndex: 15445 entries, 0 to 15444\n",
      "Data columns (total 7 columns):\n",
      " #   Column      Non-Null Count  Dtype \n",
      "---  ------      --------------  ----- \n",
      " 0   GEOID       15445 non-null  int64 \n",
      " 1   year        15445 non-null  int64 \n",
      " 2   gdp         15445 non-null  object\n",
      " 3   county      15445 non-null  object\n",
      " 4   state       15445 non-null  object\n",
      " 5   state_name  15445 non-null  object\n",
      " 6   geo_point   15445 non-null  object\n",
      "dtypes: int64(2), object(5)\n",
      "memory usage: 844.8+ KB\n"
     ]
    }
   ],
   "source": [
    "merged_county_geoFips_drop_x_county_renamed.info()"
   ]
  },
  {
   "cell_type": "code",
   "execution_count": 31,
   "metadata": {},
   "outputs": [],
   "source": [
    "# Check for duplicates\n",
    "# duplcates_merged_county_geoFips_drop_x_county_renamed = merged_county_geoFips_drop_x_county_renamed.duplicated()\n",
    "# duplcates_merged_county_geoFips_drop_x_county_renamed.unique()"
   ]
  },
  {
   "cell_type": "code",
   "execution_count": 32,
   "metadata": {},
   "outputs": [],
   "source": [
    "# Convert gdp to numeric for ranking\n",
    "merged_county_geoFips_drop_x_county_renamed['gdp'] = pd.to_numeric(merged_county_geoFips_drop_x_county_renamed['gdp'], errors = 'coerce')"
   ]
  },
  {
   "cell_type": "code",
   "execution_count": 33,
   "metadata": {},
   "outputs": [],
   "source": [
    "# Rank counties at state level\n",
    "merged_county_geoFips_drop_x_county_renamed['state_rank'] = merged_county_geoFips_drop_x_county_renamed.groupby(['state', 'state_name', 'year'])['gdp'].rank(\"dense\", ascending=False)"
   ]
  },
  {
   "cell_type": "code",
   "execution_count": 34,
   "metadata": {},
   "outputs": [],
   "source": [
    "# Rank Counties at National Level\n",
    "merged_county_geoFips_drop_x_county_renamed[\"national_rank\"] = merged_county_geoFips_drop_x_county_renamed.groupby( 'year')['gdp'].rank(\"dense\", ascending=False)"
   ]
  },
  {
   "cell_type": "code",
   "execution_count": 35,
   "metadata": {},
   "outputs": [
    {
     "data": {
      "text/html": [
       "<div>\n",
       "<style scoped>\n",
       "    .dataframe tbody tr th:only-of-type {\n",
       "        vertical-align: middle;\n",
       "    }\n",
       "\n",
       "    .dataframe tbody tr th {\n",
       "        vertical-align: top;\n",
       "    }\n",
       "\n",
       "    .dataframe thead th {\n",
       "        text-align: right;\n",
       "    }\n",
       "</style>\n",
       "<table border=\"1\" class=\"dataframe\">\n",
       "  <thead>\n",
       "    <tr style=\"text-align: right;\">\n",
       "      <th></th>\n",
       "      <th>GEOID</th>\n",
       "      <th>year</th>\n",
       "      <th>gdp</th>\n",
       "      <th>county</th>\n",
       "      <th>state</th>\n",
       "      <th>state_name</th>\n",
       "      <th>geo_point</th>\n",
       "      <th>state_rank</th>\n",
       "      <th>national_rank</th>\n",
       "    </tr>\n",
       "  </thead>\n",
       "  <tbody>\n",
       "    <tr>\n",
       "      <th>15440</th>\n",
       "      <td>56045</td>\n",
       "      <td>2015</td>\n",
       "      <td>268914</td>\n",
       "      <td>Weston</td>\n",
       "      <td>WY</td>\n",
       "      <td>Wyoming</td>\n",
       "      <td>[43.8404850615, -104.567830048]</td>\n",
       "      <td>21.0</td>\n",
       "      <td>2400.0</td>\n",
       "    </tr>\n",
       "    <tr>\n",
       "      <th>15441</th>\n",
       "      <td>56045</td>\n",
       "      <td>2016</td>\n",
       "      <td>232683</td>\n",
       "      <td>Weston</td>\n",
       "      <td>WY</td>\n",
       "      <td>Wyoming</td>\n",
       "      <td>[43.8404850615, -104.567830048]</td>\n",
       "      <td>22.0</td>\n",
       "      <td>2503.0</td>\n",
       "    </tr>\n",
       "    <tr>\n",
       "      <th>15442</th>\n",
       "      <td>56045</td>\n",
       "      <td>2017</td>\n",
       "      <td>233153</td>\n",
       "      <td>Weston</td>\n",
       "      <td>WY</td>\n",
       "      <td>Wyoming</td>\n",
       "      <td>[43.8404850615, -104.567830048]</td>\n",
       "      <td>21.0</td>\n",
       "      <td>2497.0</td>\n",
       "    </tr>\n",
       "    <tr>\n",
       "      <th>15443</th>\n",
       "      <td>56045</td>\n",
       "      <td>2018</td>\n",
       "      <td>253497</td>\n",
       "      <td>Weston</td>\n",
       "      <td>WY</td>\n",
       "      <td>Wyoming</td>\n",
       "      <td>[43.8404850615, -104.567830048]</td>\n",
       "      <td>20.0</td>\n",
       "      <td>2464.0</td>\n",
       "    </tr>\n",
       "    <tr>\n",
       "      <th>15444</th>\n",
       "      <td>56045</td>\n",
       "      <td>2019</td>\n",
       "      <td>270215</td>\n",
       "      <td>Weston</td>\n",
       "      <td>WY</td>\n",
       "      <td>Wyoming</td>\n",
       "      <td>[43.8404850615, -104.567830048]</td>\n",
       "      <td>20.0</td>\n",
       "      <td>2449.0</td>\n",
       "    </tr>\n",
       "  </tbody>\n",
       "</table>\n",
       "</div>"
      ],
      "text/plain": [
       "       GEOID  year     gdp  county state state_name  \\\n",
       "15440  56045  2015  268914  Weston    WY    Wyoming   \n",
       "15441  56045  2016  232683  Weston    WY    Wyoming   \n",
       "15442  56045  2017  233153  Weston    WY    Wyoming   \n",
       "15443  56045  2018  253497  Weston    WY    Wyoming   \n",
       "15444  56045  2019  270215  Weston    WY    Wyoming   \n",
       "\n",
       "                             geo_point  state_rank  national_rank  \n",
       "15440  [43.8404850615, -104.567830048]        21.0         2400.0  \n",
       "15441  [43.8404850615, -104.567830048]        22.0         2503.0  \n",
       "15442  [43.8404850615, -104.567830048]        21.0         2497.0  \n",
       "15443  [43.8404850615, -104.567830048]        20.0         2464.0  \n",
       "15444  [43.8404850615, -104.567830048]        20.0         2449.0  "
      ]
     },
     "execution_count": 35,
     "metadata": {},
     "output_type": "execute_result"
    }
   ],
   "source": [
    "merged_county_geoFips_drop_x_county_renamed.tail()"
   ]
  },
  {
   "cell_type": "code",
   "execution_count": 36,
   "metadata": {},
   "outputs": [],
   "source": [
    "# Convert state_rank and national_rank to int\n",
    "merged_county_geoFips_drop_x_county_renamed[['state_rank', 'national_rank']] = merged_county_geoFips_drop_x_county_renamed[['state_rank', 'national_rank']].astype(int)"
   ]
  },
  {
   "cell_type": "code",
   "execution_count": 53,
   "metadata": {},
   "outputs": [
    {
     "data": {
      "text/html": [
       "<div>\n",
       "<style scoped>\n",
       "    .dataframe tbody tr th:only-of-type {\n",
       "        vertical-align: middle;\n",
       "    }\n",
       "\n",
       "    .dataframe tbody tr th {\n",
       "        vertical-align: top;\n",
       "    }\n",
       "\n",
       "    .dataframe thead th {\n",
       "        text-align: right;\n",
       "    }\n",
       "</style>\n",
       "<table border=\"1\" class=\"dataframe\">\n",
       "  <thead>\n",
       "    <tr style=\"text-align: right;\">\n",
       "      <th></th>\n",
       "      <th>GEOID</th>\n",
       "      <th>year</th>\n",
       "      <th>gdp</th>\n",
       "      <th>county</th>\n",
       "      <th>state</th>\n",
       "      <th>state_name</th>\n",
       "      <th>geo_point</th>\n",
       "      <th>state_rank</th>\n",
       "      <th>national_rank</th>\n",
       "    </tr>\n",
       "  </thead>\n",
       "  <tbody>\n",
       "    <tr>\n",
       "      <th>0</th>\n",
       "      <td>1001</td>\n",
       "      <td>2015</td>\n",
       "      <td>1290521</td>\n",
       "      <td>Autauga</td>\n",
       "      <td>AL</td>\n",
       "      <td>Alabama</td>\n",
       "      <td>[32.5349201866, -86.642749235]</td>\n",
       "      <td>24</td>\n",
       "      <td>1150</td>\n",
       "    </tr>\n",
       "    <tr>\n",
       "      <th>1</th>\n",
       "      <td>1001</td>\n",
       "      <td>2016</td>\n",
       "      <td>1354797</td>\n",
       "      <td>Autauga</td>\n",
       "      <td>AL</td>\n",
       "      <td>Alabama</td>\n",
       "      <td>[32.5349201866, -86.642749235]</td>\n",
       "      <td>23</td>\n",
       "      <td>1104</td>\n",
       "    </tr>\n",
       "    <tr>\n",
       "      <th>2</th>\n",
       "      <td>1001</td>\n",
       "      <td>2017</td>\n",
       "      <td>1277080</td>\n",
       "      <td>Autauga</td>\n",
       "      <td>AL</td>\n",
       "      <td>Alabama</td>\n",
       "      <td>[32.5349201866, -86.642749235]</td>\n",
       "      <td>24</td>\n",
       "      <td>1168</td>\n",
       "    </tr>\n",
       "    <tr>\n",
       "      <th>3</th>\n",
       "      <td>1001</td>\n",
       "      <td>2018</td>\n",
       "      <td>1324335</td>\n",
       "      <td>Autauga</td>\n",
       "      <td>AL</td>\n",
       "      <td>Alabama</td>\n",
       "      <td>[32.5349201866, -86.642749235]</td>\n",
       "      <td>24</td>\n",
       "      <td>1161</td>\n",
       "    </tr>\n",
       "    <tr>\n",
       "      <th>4</th>\n",
       "      <td>1001</td>\n",
       "      <td>2019</td>\n",
       "      <td>1294907</td>\n",
       "      <td>Autauga</td>\n",
       "      <td>AL</td>\n",
       "      <td>Alabama</td>\n",
       "      <td>[32.5349201866, -86.642749235]</td>\n",
       "      <td>24</td>\n",
       "      <td>1194</td>\n",
       "    </tr>\n",
       "  </tbody>\n",
       "</table>\n",
       "</div>"
      ],
      "text/plain": [
       "   GEOID  year      gdp   county state state_name  \\\n",
       "0   1001  2015  1290521  Autauga    AL    Alabama   \n",
       "1   1001  2016  1354797  Autauga    AL    Alabama   \n",
       "2   1001  2017  1277080  Autauga    AL    Alabama   \n",
       "3   1001  2018  1324335  Autauga    AL    Alabama   \n",
       "4   1001  2019  1294907  Autauga    AL    Alabama   \n",
       "\n",
       "                        geo_point  state_rank  national_rank  \n",
       "0  [32.5349201866, -86.642749235]          24           1150  \n",
       "1  [32.5349201866, -86.642749235]          23           1104  \n",
       "2  [32.5349201866, -86.642749235]          24           1168  \n",
       "3  [32.5349201866, -86.642749235]          24           1161  \n",
       "4  [32.5349201866, -86.642749235]          24           1194  "
      ]
     },
     "execution_count": 53,
     "metadata": {},
     "output_type": "execute_result"
    }
   ],
   "source": [
    "merged_county_geoFips_drop_x_county_renamed.head()"
   ]
  },
  {
   "cell_type": "code",
   "execution_count": 70,
   "metadata": {},
   "outputs": [],
   "source": [
    "test_group = merged_county_geoFips_drop_x_county_renamed.groupby(['state_name', 'year'])['gdp'].max().to_frame(name = 'gdp').reset_index()\n"
   ]
  },
  {
   "cell_type": "code",
   "execution_count": 73,
   "metadata": {},
   "outputs": [],
   "source": [
    "# test_group_df = pd.DataFrame(test_group)\n",
    "test_group_df_sort = test_group.sort_values(by = ['gdp'], ascending = False)"
   ]
  },
  {
   "cell_type": "code",
   "execution_count": 79,
   "metadata": {},
   "outputs": [
    {
     "data": {
      "text/html": [
       "<div>\n",
       "<style scoped>\n",
       "    .dataframe tbody tr th:only-of-type {\n",
       "        vertical-align: middle;\n",
       "    }\n",
       "\n",
       "    .dataframe tbody tr th {\n",
       "        vertical-align: top;\n",
       "    }\n",
       "\n",
       "    .dataframe thead th {\n",
       "        text-align: right;\n",
       "    }\n",
       "</style>\n",
       "<table border=\"1\" class=\"dataframe\">\n",
       "  <thead>\n",
       "    <tr style=\"text-align: right;\">\n",
       "      <th></th>\n",
       "      <th>state_name</th>\n",
       "      <th>year</th>\n",
       "      <th>gdp</th>\n",
       "    </tr>\n",
       "  </thead>\n",
       "  <tbody>\n",
       "    <tr>\n",
       "      <th>24</th>\n",
       "      <td>California</td>\n",
       "      <td>2019</td>\n",
       "      <td>661697170</td>\n",
       "    </tr>\n",
       "    <tr>\n",
       "      <th>23</th>\n",
       "      <td>California</td>\n",
       "      <td>2018</td>\n",
       "      <td>644506153</td>\n",
       "    </tr>\n",
       "    <tr>\n",
       "      <th>22</th>\n",
       "      <td>California</td>\n",
       "      <td>2017</td>\n",
       "      <td>633566149</td>\n",
       "    </tr>\n",
       "    <tr>\n",
       "      <th>21</th>\n",
       "      <td>California</td>\n",
       "      <td>2016</td>\n",
       "      <td>609904089</td>\n",
       "    </tr>\n",
       "    <tr>\n",
       "      <th>164</th>\n",
       "      <td>New York</td>\n",
       "      <td>2019</td>\n",
       "      <td>606498241</td>\n",
       "    </tr>\n",
       "    <tr>\n",
       "      <th>...</th>\n",
       "      <td>...</td>\n",
       "      <td>...</td>\n",
       "      <td>...</td>\n",
       "    </tr>\n",
       "    <tr>\n",
       "      <th>111</th>\n",
       "      <td>Michigan</td>\n",
       "      <td>2016</td>\n",
       "      <td>87172527</td>\n",
       "    </tr>\n",
       "    <tr>\n",
       "      <th>140</th>\n",
       "      <td>Nevada</td>\n",
       "      <td>2015</td>\n",
       "      <td>86140743</td>\n",
       "    </tr>\n",
       "    <tr>\n",
       "      <th>110</th>\n",
       "      <td>Michigan</td>\n",
       "      <td>2015</td>\n",
       "      <td>85474426</td>\n",
       "    </tr>\n",
       "    <tr>\n",
       "      <th>166</th>\n",
       "      <td>North Carolina</td>\n",
       "      <td>2016</td>\n",
       "      <td>84792210</td>\n",
       "    </tr>\n",
       "    <tr>\n",
       "      <th>44</th>\n",
       "      <td>District of Columbia</td>\n",
       "      <td>2019</td>\n",
       "      <td>83179236</td>\n",
       "    </tr>\n",
       "  </tbody>\n",
       "</table>\n",
       "<p>70 rows × 3 columns</p>\n",
       "</div>"
      ],
      "text/plain": [
       "               state_name  year        gdp\n",
       "24             California  2019  661697170\n",
       "23             California  2018  644506153\n",
       "22             California  2017  633566149\n",
       "21             California  2016  609904089\n",
       "164              New York  2019  606498241\n",
       "..                    ...   ...        ...\n",
       "111              Michigan  2016   87172527\n",
       "140                Nevada  2015   86140743\n",
       "110              Michigan  2015   85474426\n",
       "166        North Carolina  2016   84792210\n",
       "44   District of Columbia  2019   83179236\n",
       "\n",
       "[70 rows x 3 columns]"
      ]
     },
     "execution_count": 79,
     "metadata": {},
     "output_type": "execute_result"
    }
   ],
   "source": [
    "test_group_df_sort.head(70)"
   ]
  },
  {
   "cell_type": "code",
   "execution_count": 38,
   "metadata": {},
   "outputs": [],
   "source": [
    "# Export as json mainCountiesGeoFips.json\n",
    "# merged_county_geoFips_drop_x_county_renamed.to_json('mainCountiesGeoFips.json', orient=\"records\")"
   ]
  },
  {
   "cell_type": "markdown",
   "metadata": {},
   "source": [
    "### Main States Data Transform"
   ]
  },
  {
   "cell_type": "code",
   "execution_count": 39,
   "metadata": {},
   "outputs": [
    {
     "data": {
      "text/html": [
       "<div>\n",
       "<style scoped>\n",
       "    .dataframe tbody tr th:only-of-type {\n",
       "        vertical-align: middle;\n",
       "    }\n",
       "\n",
       "    .dataframe tbody tr th {\n",
       "        vertical-align: top;\n",
       "    }\n",
       "\n",
       "    .dataframe thead th {\n",
       "        text-align: right;\n",
       "    }\n",
       "</style>\n",
       "<table border=\"1\" class=\"dataframe\">\n",
       "  <thead>\n",
       "    <tr style=\"text-align: right;\">\n",
       "      <th></th>\n",
       "      <th>state_id</th>\n",
       "      <th>state_name</th>\n",
       "      <th>year</th>\n",
       "      <th>gdp</th>\n",
       "    </tr>\n",
       "  </thead>\n",
       "  <tbody>\n",
       "    <tr>\n",
       "      <th>295</th>\n",
       "      <td>98000</td>\n",
       "      <td>Far West</td>\n",
       "      <td>2015</td>\n",
       "      <td>3,341,931.9</td>\n",
       "    </tr>\n",
       "    <tr>\n",
       "      <th>296</th>\n",
       "      <td>98000</td>\n",
       "      <td>Far West</td>\n",
       "      <td>2016</td>\n",
       "      <td>3,455,461.8</td>\n",
       "    </tr>\n",
       "    <tr>\n",
       "      <th>297</th>\n",
       "      <td>98000</td>\n",
       "      <td>Far West</td>\n",
       "      <td>2017</td>\n",
       "      <td>3,605,311.7</td>\n",
       "    </tr>\n",
       "    <tr>\n",
       "      <th>298</th>\n",
       "      <td>98000</td>\n",
       "      <td>Far West</td>\n",
       "      <td>2018</td>\n",
       "      <td>3,738,194.2</td>\n",
       "    </tr>\n",
       "    <tr>\n",
       "      <th>299</th>\n",
       "      <td>98000</td>\n",
       "      <td>Far West</td>\n",
       "      <td>2019</td>\n",
       "      <td>3,864,650.3</td>\n",
       "    </tr>\n",
       "  </tbody>\n",
       "</table>\n",
       "</div>"
      ],
      "text/plain": [
       "     state_id state_name  year          gdp\n",
       "295     98000   Far West  2015  3,341,931.9\n",
       "296     98000   Far West  2016  3,455,461.8\n",
       "297     98000   Far West  2017  3,605,311.7\n",
       "298     98000   Far West  2018  3,738,194.2\n",
       "299     98000   Far West  2019  3,864,650.3"
      ]
     },
     "execution_count": 39,
     "metadata": {},
     "output_type": "execute_result"
    }
   ],
   "source": [
    "# Import states_gdp_main.csv\n",
    "states_gdp_geoFips_df = pd.read_csv('states_gdp_main.csv')\n",
    "states_gdp_geoFips_df.tail()"
   ]
  },
  {
   "cell_type": "code",
   "execution_count": 40,
   "metadata": {},
   "outputs": [],
   "source": [
    "# Transform GDP\n",
    "states_num_conv = [x.replace(',', '') for x in states_gdp_geoFips_df['gdp']] # remove the commas in gdp values\n",
    "states_gdp_geoFips_df['gdp'] = [x for x in states_num_conv]"
   ]
  },
  {
   "cell_type": "code",
   "execution_count": 41,
   "metadata": {},
   "outputs": [],
   "source": [
    "# Format gdp and convert to numeric\n",
    "states_gdp_geoFips_df['gdp'] = pd.to_numeric(states_gdp_geoFips_df['gdp'], errors = 'coerce')"
   ]
  },
  {
   "cell_type": "code",
   "execution_count": 42,
   "metadata": {},
   "outputs": [
    {
     "data": {
      "text/plain": [
       "array(['United States', 'Alabama', 'Alaska', 'Arizona', 'Arkansas',\n",
       "       'California', 'Colorado', 'Connecticut', 'Delaware',\n",
       "       'District of Columbia', 'Florida', 'Georgia', 'Hawaii', 'Idaho',\n",
       "       'Illinois', 'Indiana', 'Iowa', 'Kansas', 'Kentucky', 'Louisiana',\n",
       "       'Maine', 'Maryland', 'Massachusetts', 'Michigan', 'Minnesota',\n",
       "       'Mississippi', 'Missouri', 'Montana', 'Nebraska', 'Nevada',\n",
       "       'New Hampshire', 'New Jersey', 'New Mexico', 'New York',\n",
       "       'North Carolina', 'North Dakota', 'Ohio', 'Oklahoma', 'Oregon',\n",
       "       'Pennsylvania', 'Rhode Island', 'South Carolina', 'South Dakota',\n",
       "       'Tennessee', 'Texas', 'Utah', 'Vermont', 'Virginia', 'Washington',\n",
       "       'West Virginia', 'Wisconsin', 'Wyoming', 'New England', 'Mideast',\n",
       "       'Great Lakes', 'Plains', 'Southeast', 'Southwest',\n",
       "       'Rocky Mountain', 'Far West'], dtype=object)"
      ]
     },
     "execution_count": 42,
     "metadata": {},
     "output_type": "execute_result"
    }
   ],
   "source": [
    "# Check for all non states\n",
    "states_gdp_geoFips_df['state_name'].unique()"
   ]
  },
  {
   "cell_type": "code",
   "execution_count": 43,
   "metadata": {},
   "outputs": [
    {
     "data": {
      "text/html": [
       "<div>\n",
       "<style scoped>\n",
       "    .dataframe tbody tr th:only-of-type {\n",
       "        vertical-align: middle;\n",
       "    }\n",
       "\n",
       "    .dataframe tbody tr th {\n",
       "        vertical-align: top;\n",
       "    }\n",
       "\n",
       "    .dataframe thead th {\n",
       "        text-align: right;\n",
       "    }\n",
       "</style>\n",
       "<table border=\"1\" class=\"dataframe\">\n",
       "  <thead>\n",
       "    <tr style=\"text-align: right;\">\n",
       "      <th></th>\n",
       "      <th>state_id</th>\n",
       "      <th>state_name</th>\n",
       "      <th>year</th>\n",
       "      <th>gdp</th>\n",
       "    </tr>\n",
       "  </thead>\n",
       "  <tbody>\n",
       "    <tr>\n",
       "      <th>0</th>\n",
       "      <td>0</td>\n",
       "      <td>United States</td>\n",
       "      <td>2015</td>\n",
       "      <td>17432170.0</td>\n",
       "    </tr>\n",
       "    <tr>\n",
       "      <th>1</th>\n",
       "      <td>0</td>\n",
       "      <td>United States</td>\n",
       "      <td>2016</td>\n",
       "      <td>17730509.0</td>\n",
       "    </tr>\n",
       "    <tr>\n",
       "      <th>2</th>\n",
       "      <td>0</td>\n",
       "      <td>United States</td>\n",
       "      <td>2017</td>\n",
       "      <td>18144105.0</td>\n",
       "    </tr>\n",
       "    <tr>\n",
       "      <th>3</th>\n",
       "      <td>0</td>\n",
       "      <td>United States</td>\n",
       "      <td>2018</td>\n",
       "      <td>18687786.0</td>\n",
       "    </tr>\n",
       "    <tr>\n",
       "      <th>4</th>\n",
       "      <td>0</td>\n",
       "      <td>United States</td>\n",
       "      <td>2019</td>\n",
       "      <td>19091662.0</td>\n",
       "    </tr>\n",
       "  </tbody>\n",
       "</table>\n",
       "</div>"
      ],
      "text/plain": [
       "   state_id     state_name  year         gdp\n",
       "0         0  United States  2015  17432170.0\n",
       "1         0  United States  2016  17730509.0\n",
       "2         0  United States  2017  18144105.0\n",
       "3         0  United States  2018  18687786.0\n",
       "4         0  United States  2019  19091662.0"
      ]
     },
     "execution_count": 43,
     "metadata": {},
     "output_type": "execute_result"
    }
   ],
   "source": [
    "# Extract US Totals\n",
    "us_totals_df = states_gdp_geoFips_df.loc[states_gdp_geoFips_df['state_name'] == 'United States']\n",
    "us_totals_df"
   ]
  },
  {
   "cell_type": "code",
   "execution_count": 44,
   "metadata": {},
   "outputs": [],
   "source": [
    "# Convert to usTotals.json\n",
    "# us_totals_df.to_json('usTotals.json', orient=\"records\")"
   ]
  },
  {
   "cell_type": "code",
   "execution_count": 45,
   "metadata": {},
   "outputs": [],
   "source": [
    "# Get non states\n",
    "non_states_df = states_gdp_geoFips_df.loc[(states_gdp_geoFips_df['state_name'] == 'United States') | (states_gdp_geoFips_df['state_name'] == 'Mideast')\\\n",
    "                                         | (states_gdp_geoFips_df['state_name'] == 'Great Lakes') | (states_gdp_geoFips_df['state_name'] == 'Plains')\\\n",
    "                                         | (states_gdp_geoFips_df['state_name'] == 'Southeast') | (states_gdp_geoFips_df['state_name'] == 'Southwest')\\\n",
    "                                         | (states_gdp_geoFips_df['state_name'] == 'Rocky Mountain') | (states_gdp_geoFips_df['state_name'] == 'Far West')\\\n",
    "                                         | (states_gdp_geoFips_df['state_name'] == 'New England')]"
   ]
  },
  {
   "cell_type": "code",
   "execution_count": 46,
   "metadata": {},
   "outputs": [],
   "source": [
    "# Extract non states and us values\n",
    "states_gdp_geoFips_real_df = states_gdp_geoFips_df[~states_gdp_geoFips_df.isin(non_states_df)].dropna()"
   ]
  },
  {
   "cell_type": "code",
   "execution_count": 47,
   "metadata": {},
   "outputs": [],
   "source": [
    "states_gdp_geoFips_real_df_reset_index = states_gdp_geoFips_real_df.reset_index(drop = True)"
   ]
  },
  {
   "cell_type": "code",
   "execution_count": 48,
   "metadata": {},
   "outputs": [],
   "source": [
    "states_gdp_geoFips_real_df_reset_index['rank'] = states_gdp_geoFips_real_df_reset_index.groupby('year')['gdp'].rank(\"dense\", ascending=False)"
   ]
  },
  {
   "cell_type": "code",
   "execution_count": 49,
   "metadata": {},
   "outputs": [],
   "source": [
    "# convert state_id, year and gdp to int\n",
    "states_gdp_geoFips_real_df_reset_index[['state_id', 'year', 'gdp', 'rank']] = states_gdp_geoFips_real_df_reset_index[['state_id', 'year', 'gdp', 'rank']].astype(int)"
   ]
  },
  {
   "cell_type": "code",
   "execution_count": 50,
   "metadata": {},
   "outputs": [],
   "source": [
    "# states_gdp_geoFips_real_df_reset_index.info()"
   ]
  },
  {
   "cell_type": "code",
   "execution_count": 51,
   "metadata": {},
   "outputs": [],
   "source": [
    "# convert to mainStatesGdp.json\n",
    "# states_gdp_geoFips_real_df_reset_index.to_json('mainStatesGdp.json', orient=\"records\")"
   ]
  }
 ],
 "metadata": {
  "kernelspec": {
   "display_name": "Python 3",
   "language": "python",
   "name": "python3"
  },
  "language_info": {
   "codemirror_mode": {
    "name": "ipython",
    "version": 3
   },
   "file_extension": ".py",
   "mimetype": "text/x-python",
   "name": "python",
   "nbconvert_exporter": "python",
   "pygments_lexer": "ipython3",
   "version": "3.6.10"
  }
 },
 "nbformat": 4,
 "nbformat_minor": 4
}
